{
  "nbformat": 4,
  "nbformat_minor": 0,
  "metadata": {
    "colab": {
      "provenance": []
    },
    "kernelspec": {
      "name": "python3",
      "display_name": "Python 3"
    },
    "language_info": {
      "name": "python"
    }
  },
  "cells": [
    {
      "cell_type": "code",
      "execution_count": null,
      "metadata": {
        "id": "yLEBceZPPQVp"
      },
      "outputs": [],
      "source": [
        "import requests\n",
        "from bs4 import BeautifulSoup\n",
        "import re\n",
        "\n",
        "API_KEY = \"0f9099b8de947e362082bd500ccd48cdc0caaaed2ed6a5f303a33f75cc388f4f\"\n",
        "ZONE = \"web_unlocker1\"\n",
        "PRODUCT_URL = \"https://www.alibaba.com/product-detail/55inch-Curved-LED-Tv-Screen-Ultra_1600609074192.html?spm=a2700.galleryofferlist.normal_offer.d_image.246513a0wkHdTr\"\n",
        "headers = {\n",
        "    \"Authorization\": f\"Bearer {API_KEY}\",\n",
        "    \"Content-Type\": \"application/json\"\n",
        "}\n",
        "\n",
        "data = {\n",
        "    \"zone\": ZONE,\n",
        "    \"url\": PRODUCT_URL,\n",
        "    \"format\": \"raw\",\n",
        "    \"render\": True  # JavaScript rendering enabled\n",
        "}\n",
        "\n",
        "response = requests.post(\"https://api.brightdata.com/request\", json=data, headers=headers)\n",
        "\n",
        "if response.status_code == 200:\n",
        "    soup = BeautifulSoup(response.text, \"html.parser\")\n",
        "\n",
        "    # ✅ Extract Title\n",
        "    title_tag = soup.find(\"h1\")\n",
        "    title = title_tag.get_text(strip=True) if title_tag else \"Title not found\"\n",
        "\n",
        "    # ✅ Extract Price using Amazon-specific class\n",
        "    price_tag = soup.find(\"span\", class_=\"a-price-whole\")\n",
        "    price = price_tag.get_text(strip=True) if price_tag else \"Price not found\"\n",
        "\n",
        "    # ✅ Extract first 10 JPG image URLs\n",
        "    jpg_images = []\n",
        "    for img in soup.find_all(\"img\"):\n",
        "        src = img.get(\"src\")\n",
        "        if src and \".jpg\" in src.lower():\n",
        "            if src.startswith(\"//\"):\n",
        "                src = \"https:\" + src\n",
        "            # ✅ Upgrade to high-resolution\n",
        "            high_res_src = re.sub(r'\\._[A-Z0-9,_]+\\_', '', src)  # Removes size tags\n",
        "            jpg_images.append(high_res_src)\n",
        "    # ✅ Output\n",
        "    print(\"Title:\", title)\n",
        "    print(\"Price:\", price)\n",
        "    print(\"High-Res Images:\", jpg_images[:10])\n",
        "\n",
        "\n",
        "else:\n",
        "    print(\"❌ Failed\")\n",
        "    print(\"Code:\", response.status_code)\n",
        "    print(\"Response:\", response.text)\n"
      ]
    }
  ]
}